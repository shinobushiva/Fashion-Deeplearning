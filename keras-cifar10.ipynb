{
 "cells": [
  {
   "cell_type": "code",
   "execution_count": 1,
   "metadata": {
    "collapsed": true
   },
   "outputs": [
    {
     "name": "stderr",
     "output_type": "stream",
     "text": [
      "Using TensorFlow backend.\n"
     ]
    }
   ],
   "source": [
    "from keras.models import Sequential\n",
    "from keras.layers.convolutional import Conv2D\n",
    "from keras.layers.pooling import MaxPool2D\n",
    "from keras.optimizers import Adam\n",
    "\n",
    "from keras.layers.core import Dense, Activation, Dropout, Flatten\n",
    "from keras.utils import plot_model\n",
    "from keras.callbacks import TensorBoard\n",
    "\n",
    "from keras.datasets import cifar10\n",
    "from keras.utils import np_utils"
   ]
  },
  {
   "cell_type": "code",
   "execution_count": 2,
   "metadata": {},
   "outputs": [
    {
     "name": "stdout",
     "output_type": "stream",
     "text": [
      "(32, 32, 3)\n"
     ]
    }
   ],
   "source": [
    "nb_classes = 10\n",
    "batch_size=1\n",
    "nb_epoch = 100\n",
    "\n",
    "\n",
    "(X_train, y_train), (X_test, y_test) = cifar10.load_data()\n",
    "\n",
    "X_train = X_train.astype('float32')\n",
    "X_test = X_test.astype('float32')\n",
    "X_train /= 255.0\n",
    "X_test /= 255.0\n",
    "\n",
    "Y_train = np_utils.to_categorical(y_train, nb_classes)\n",
    "Y_test = np_utils.to_categorical(y_test, nb_classes)\n",
    "\n",
    "print(X_train[0].shape)"
   ]
  },
  {
   "cell_type": "code",
   "execution_count": 3,
   "metadata": {},
   "outputs": [],
   "source": [
    "model = Sequential()\n",
    "\n",
    "model.add(Conv2D(32,3,input_shape=(32,32,3),padding='valid'))\n",
    "model.add(Activation('relu'))\n",
    "model.add(Conv2D(32,3))\n",
    "model.add(Activation('relu'))\n",
    "model.add(MaxPool2D(pool_size=(2,2)))\n",
    "\n",
    "model.add(Conv2D(64,3))\n",
    "model.add(Activation('relu'))\n",
    "model.add(MaxPool2D(pool_size=(2,2)))\n",
    "\n",
    "model.add(Flatten())\n",
    "model.add(Dense(1024))\n",
    "model.add(Activation('relu'))\n",
    "model.add(Dropout(1.0))\n",
    "\n",
    "model.add(Dense(nb_classes, activation='softmax'))\n",
    "\n",
    "adam = Adam(lr=1e-4)\n",
    "\n",
    "model.compile(optimizer=adam, \n",
    "              loss='categorical_crossentropy', \n",
    "              metrics=['accuracy'])\n"
   ]
  },
  {
   "cell_type": "code",
   "execution_count": null,
   "metadata": {},
   "outputs": [],
   "source": []
  },
  {
   "cell_type": "code",
   "execution_count": 4,
   "metadata": {},
   "outputs": [
    {
     "name": "stdout",
     "output_type": "stream",
     "text": [
      "_________________________________________________________________\n",
      "Layer (type)                 Output Shape              Param #   \n",
      "=================================================================\n",
      "conv2d_1 (Conv2D)            (None, 30, 30, 32)        896       \n",
      "_________________________________________________________________\n",
      "activation_1 (Activation)    (None, 30, 30, 32)        0         \n",
      "_________________________________________________________________\n",
      "conv2d_2 (Conv2D)            (None, 28, 28, 32)        9248      \n",
      "_________________________________________________________________\n",
      "activation_2 (Activation)    (None, 28, 28, 32)        0         \n",
      "_________________________________________________________________\n",
      "max_pooling2d_1 (MaxPooling2 (None, 14, 14, 32)        0         \n",
      "_________________________________________________________________\n",
      "conv2d_3 (Conv2D)            (None, 12, 12, 64)        18496     \n",
      "_________________________________________________________________\n",
      "activation_3 (Activation)    (None, 12, 12, 64)        0         \n",
      "_________________________________________________________________\n",
      "max_pooling2d_2 (MaxPooling2 (None, 6, 6, 64)          0         \n",
      "_________________________________________________________________\n",
      "flatten_1 (Flatten)          (None, 2304)              0         \n",
      "_________________________________________________________________\n",
      "dense_1 (Dense)              (None, 1024)              2360320   \n",
      "_________________________________________________________________\n",
      "activation_4 (Activation)    (None, 1024)              0         \n",
      "_________________________________________________________________\n",
      "dropout_1 (Dropout)          (None, 1024)              0         \n",
      "_________________________________________________________________\n",
      "dense_2 (Dense)              (None, 10)                10250     \n",
      "=================================================================\n",
      "Total params: 2,399,210\n",
      "Trainable params: 2,399,210\n",
      "Non-trainable params: 0\n",
      "_________________________________________________________________\n"
     ]
    }
   ],
   "source": [
    "model.summary()"
   ]
  },
  {
   "cell_type": "code",
   "execution_count": 8,
   "metadata": {},
   "outputs": [],
   "source": [
    "plot_model(model, to_file='model.png',show_shapes=True)"
   ]
  },
  {
   "cell_type": "code",
   "execution_count": 9,
   "metadata": {},
   "outputs": [
    {
     "name": "stdout",
     "output_type": "stream",
     "text": [
      "Train on 45000 samples, validate on 5000 samples\n",
      "Epoch 1/100\n",
      "45000/45000 [==============================] - 187s 4ms/step - loss: 0.9935 - acc: 0.6525 - val_loss: 0.8857 - val_acc: 0.6810\n",
      "Epoch 2/100\n",
      "45000/45000 [==============================] - 210s 5ms/step - loss: 0.7632 - acc: 0.7352 - val_loss: 0.8234 - val_acc: 0.7166\n",
      "Epoch 3/100\n",
      "45000/45000 [==============================] - 233s 5ms/step - loss: 0.5884 - acc: 0.7966 - val_loss: 0.7472 - val_acc: 0.7478\n",
      "Epoch 4/100\n",
      "45000/45000 [==============================] - 232s 5ms/step - loss: 0.4326 - acc: 0.8508 - val_loss: 0.7574 - val_acc: 0.7626\n",
      "Epoch 5/100\n",
      "45000/45000 [==============================] - 255s 6ms/step - loss: 0.2898 - acc: 0.9007 - val_loss: 0.8719 - val_acc: 0.7632\n",
      "Epoch 6/100\n",
      "45000/45000 [==============================] - 258s 6ms/step - loss: 0.1786 - acc: 0.9389 - val_loss: 1.0568 - val_acc: 0.7546\n",
      "Epoch 7/100\n",
      "45000/45000 [==============================] - 248s 6ms/step - loss: 0.1110 - acc: 0.9615 - val_loss: 1.1279 - val_acc: 0.7574\n",
      "Epoch 8/100\n",
      "45000/45000 [==============================] - 190s 4ms/step - loss: 0.0790 - acc: 0.9738 - val_loss: 1.3611 - val_acc: 0.7434\n",
      "Epoch 9/100\n",
      "45000/45000 [==============================] - 190s 4ms/step - loss: 0.0630 - acc: 0.9792 - val_loss: 1.4309 - val_acc: 0.7528\n",
      "Epoch 10/100\n",
      "45000/45000 [==============================] - 191s 4ms/step - loss: 0.0538 - acc: 0.9828 - val_loss: 1.5350 - val_acc: 0.7426\n",
      "Epoch 11/100\n",
      "45000/45000 [==============================] - 192s 4ms/step - loss: 0.0497 - acc: 0.9838 - val_loss: 1.5827 - val_acc: 0.7556\n",
      "Epoch 12/100\n",
      "45000/45000 [==============================] - 193s 4ms/step - loss: 0.0441 - acc: 0.9856 - val_loss: 1.7537 - val_acc: 0.7472\n",
      "Epoch 13/100\n",
      "45000/45000 [==============================] - 195s 4ms/step - loss: 0.0407 - acc: 0.9869 - val_loss: 1.7061 - val_acc: 0.7544\n",
      "Epoch 14/100\n",
      "45000/45000 [==============================] - 192s 4ms/step - loss: 0.0389 - acc: 0.9876 - val_loss: 1.7220 - val_acc: 0.7528\n",
      "Epoch 15/100\n",
      "45000/45000 [==============================] - 192s 4ms/step - loss: 0.0365 - acc: 0.9879 - val_loss: 1.8595 - val_acc: 0.7502\n",
      "Epoch 16/100\n",
      "45000/45000 [==============================] - 209s 5ms/step - loss: 0.0343 - acc: 0.9892 - val_loss: 1.9026 - val_acc: 0.7400\n",
      "Epoch 17/100\n",
      "45000/45000 [==============================] - 222s 5ms/step - loss: 0.0357 - acc: 0.9889 - val_loss: 1.9473 - val_acc: 0.7492\n",
      "Epoch 18/100\n",
      "11729/45000 [======>.......................] - ETA: 3:04 - loss: 0.0297 - acc: 0.9905"
     ]
    }
   ],
   "source": [
    "history = model.fit(X_train,Y_train,\n",
    "                    batch_size=batch_size,\n",
    "                    epochs=nb_epoch,\n",
    "                    verbose=1,\n",
    "                    validation_split=0.1)\n"
   ]
  }
 ],
 "metadata": {
  "kernelspec": {
   "display_name": "Python 3",
   "language": "python",
   "name": "python3"
  },
  "language_info": {
   "codemirror_mode": {
    "name": "ipython",
    "version": 3
   },
   "file_extension": ".py",
   "mimetype": "text/x-python",
   "name": "python",
   "nbconvert_exporter": "python",
   "pygments_lexer": "ipython3",
   "version": "3.5.4"
  }
 },
 "nbformat": 4,
 "nbformat_minor": 1
}
